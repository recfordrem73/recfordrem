{
  "nbformat": 4,
  "nbformat_minor": 0,
  "metadata": {
    "colab": {
      "name": "Доп задания на закрепление материала по ноутбуку 2",
      "provenance": [],
      "authorship_tag": "ABX9TyP1auhbBEHe0+2YP3R9x1ir",
      "include_colab_link": true
    },
    "kernelspec": {
      "name": "python3",
      "display_name": "Python 3"
    },
    "language_info": {
      "name": "python"
    }
  },
  "cells": [
    {
      "cell_type": "markdown",
      "metadata": {
        "id": "view-in-github",
        "colab_type": "text"
      },
      "source": [
        "<a href=\"https://colab.research.google.com/github/recfordrem73/recfordrem/blob/child-branch/%D0%94%D0%BE%D0%BF_%D0%B7%D0%B0%D0%B4%D0%B0%D0%BD%D0%B8%D1%8F_%D0%BD%D0%B0_%D0%B7%D0%B0%D0%BA%D1%80%D0%B5%D0%BF%D0%BB%D0%B5%D0%BD%D0%B8%D0%B5_%D0%BC%D0%B0%D1%82%D0%B5%D1%80%D0%B8%D0%B0%D0%BB%D0%B0_%D0%BF%D0%BE_%D0%BD%D0%BE%D1%83%D1%82%D0%B1%D1%83%D0%BA%D1%83_2.ipynb\" target=\"_parent\"><img src=\"https://colab.research.google.com/assets/colab-badge.svg\" alt=\"Open In Colab\"/></a>"
      ]
    },
    {
      "cell_type": "markdown",
      "metadata": {
        "id": "DgjE2TBfFGyS"
      },
      "source": [
        "# Доп задания на закрепление материала"
      ]
    },
    {
      "cell_type": "code",
      "metadata": {
        "id": "D-Lc19J4WL-3"
      },
      "source": [
        "# загрузим библиотеки\n",
        "import numpy as np\n",
        "import pandas as pd"
      ],
      "execution_count": 1,
      "outputs": []
    },
    {
      "cell_type": "markdown",
      "metadata": {
        "id": "3LlyjWYw7YFE"
      },
      "source": [
        ""
      ]
    },
    {
      "cell_type": "markdown",
      "metadata": {
        "id": "ZYcKnimkFRrD"
      },
      "source": [
        "## Задание 1\n",
        "\n",
        "Создайте массив массив из 100 элементов (от 1 до 100), переформатируйте в формат (10 * 10), сделайте слайсинг с шагом 2 по каждой оси."
      ]
    },
    {
      "cell_type": "code",
      "metadata": {
        "id": "wAPfX3erFUqa",
        "colab": {
          "base_uri": "https://localhost:8080/"
        },
        "outputId": "2dba504b-feb3-42a7-b849-aa996a01857d"
      },
      "source": [
        "import numpy as np\n",
        "np.arange(1,101).reshape(10,10)[::2,::2]\n"
      ],
      "execution_count": 2,
      "outputs": [
        {
          "output_type": "execute_result",
          "data": {
            "text/plain": [
              "array([[ 1,  3,  5,  7,  9],\n",
              "       [21, 23, 25, 27, 29],\n",
              "       [41, 43, 45, 47, 49],\n",
              "       [61, 63, 65, 67, 69],\n",
              "       [81, 83, 85, 87, 89]])"
            ]
          },
          "metadata": {
            "tags": []
          },
          "execution_count": 2
        }
      ]
    },
    {
      "cell_type": "markdown",
      "metadata": {
        "id": "SrI3heKeV7nP"
      },
      "source": [
        "## Задание 2\n",
        "\n",
        "Написать функцию, которая по заданной длине последовательности находит среднее арифметическое ее членов.\n",
        "\n",
        "Реализуйте задачу с и без помощи numpy, сравните время выполнения"
      ]
    },
    {
      "cell_type": "code",
      "metadata": {
        "id": "2-5-E2pCV_Ot",
        "colab": {
          "base_uri": "https://localhost:8080/"
        },
        "outputId": "3769e215-37c0-4b81-d69f-340ec117a6e6"
      },
      "source": [
        "# решение с использованием numpy\n",
        "# для оценки времени исоплнения блока\n",
        "%%time\n",
        "# зададим длину нашей последовательности\n",
        "dlina_posl = 100_000_000\n",
        "\n",
        "# ваш код тут\n",
        "def sr_ar(x):\n",
        "  me=sum(x)/len(x)\n",
        "  return me\n",
        "print(sr_ar(range(100000000)))\n"
      ],
      "execution_count": 3,
      "outputs": [
        {
          "output_type": "stream",
          "text": [
            "49999999.5\n",
            "CPU times: user 2.56 s, sys: 13.5 ms, total: 2.57 s\n",
            "Wall time: 2.63 s\n"
          ],
          "name": "stdout"
        }
      ]
    },
    {
      "cell_type": "code",
      "metadata": {
        "id": "9e3X5PEpWBjA",
        "colab": {
          "base_uri": "https://localhost:8080/"
        },
        "outputId": "77b7ed49-8c3b-480f-ae7a-68f78185f32b"
      },
      "source": [
        "# решение без использования numpy\n",
        "# для оценки времени исоплнения блока\n",
        "%%time\n",
        "# ваш код тут\n",
        "np.mean(np.arange(100000000))"
      ],
      "execution_count": 4,
      "outputs": [
        {
          "output_type": "stream",
          "text": [
            "CPU times: user 211 ms, sys: 244 ms, total: 455 ms\n",
            "Wall time: 455 ms\n"
          ],
          "name": "stdout"
        },
        {
          "output_type": "execute_result",
          "data": {
            "text/plain": [
              "49999999.5"
            ]
          },
          "metadata": {
            "tags": []
          },
          "execution_count": 4
        }
      ]
    },
    {
      "cell_type": "markdown",
      "metadata": {
        "id": "rN5yJLU4WF_6"
      },
      "source": [
        ""
      ]
    },
    {
      "cell_type": "markdown",
      "metadata": {
        "id": "aF_IhXzJFWzJ"
      },
      "source": [
        "## Задание 3\n",
        "\n",
        "Задан Series объект s, найти индекс первого элемента отсортированного s, где значения больше 5"
      ]
    },
    {
      "cell_type": "code",
      "metadata": {
        "id": "PzrBc2RRFYom",
        "colab": {
          "base_uri": "https://localhost:8080/"
        },
        "outputId": "5b9e706a-158c-4794-a383-25c0034e9082"
      },
      "source": [
        "# задано изначально\n",
        "import numpy as np\n",
        "import pandas as pd\n",
        "r = np.random.RandomState(1)\n",
        "s=pd.Series(r.uniform(0, 10, 100))\n",
        "s[s>5].index[0]\n"
      ],
      "execution_count": 5,
      "outputs": [
        {
          "output_type": "execute_result",
          "data": {
            "text/plain": [
              "1"
            ]
          },
          "metadata": {
            "tags": []
          },
          "execution_count": 5
        }
      ]
    },
    {
      "cell_type": "markdown",
      "metadata": {
        "id": "lK7mPJPRWcs2"
      },
      "source": [
        "## Задание 4\n",
        "\n",
        "Предположим, что мы наблюдаем за некоторым признаком нашего датасета, но в данных есть пропуски. Ваша задача: реализовать алгоритм заполнения пропущенных значений последним известным с помощью средств python и pandas. (подсказка: вам может помочь функция np.isnan(), которая возвращает True, если число - nan. Для реализации с пандас стоит посмотреть на метод .fillna).\n",
        "\n",
        "Изначальный код с инициализацией такого датасета предоставлен."
      ]
    },
    {
      "cell_type": "code",
      "metadata": {
        "id": "Eu5g1x-hWcA1",
        "colab": {
          "base_uri": "https://localhost:8080/",
          "height": 283
        },
        "outputId": "6e6a054e-b833-466a-bb88-53023991dc14"
      },
      "source": [
        "# импортируем библиотеку для создания шума\n",
        "import random\n",
        "# библиотека для визуализации\n",
        "import matplotlib.pyplot as plt\n",
        "\n",
        "# создадим наши данные и добавим к каждой точке синусоиды случайный шум\n",
        "a = np.linspace(0, 25, 100)\n",
        "a = np.sin(a) + [random.gauss(0, 0.2) for i in range(len(a))]\n",
        "\n",
        "# создадим 10 случайных пропусков\n",
        "for i in range(10):\n",
        "    a[random.randint(0, len(a) - 1)] = None\n",
        "# создадим датафрейм\n",
        "df = pd.DataFrame({'target':a})\n",
        "\n",
        "# ваш код тут\n",
        "for i in df['target'].index:\n",
        "  if np.isnan(df['target'][i])==True and i!=0:\n",
        "    df['target'][i]=df['target'][i-1]\n",
        "# отобразим\n",
        "plt.plot(df.target.values)"
      ],
      "execution_count": 6,
      "outputs": [
        {
          "output_type": "execute_result",
          "data": {
            "text/plain": [
              "[<matplotlib.lines.Line2D at 0x7f85c7353c10>]"
            ]
          },
          "metadata": {
            "tags": []
          },
          "execution_count": 6
        },
        {
          "output_type": "display_data",
          "data": {
            "image/png": "[encoded data removed]",
            "text/plain": [
              "<Figure size 432x288 with 1 Axes>"
            ]
          },
          "metadata": {
            "tags": [],
            "needs_background": "light"
          }
        }
      ]
    },
    {
      "cell_type": "markdown",
      "metadata": {
        "id": "5gYj1TeyW9Aq"
      },
      "source": [
        "## Задание 5\n",
        "\n",
        "Имеется небольшой игрушечный датафрейм, в котором необходимо провести несколько типов фильтраций (ответы ищите в решениях) и отобразить результат:\n",
        "\n",
        "* всех, кто старше 40\n",
        "* всех, кто имеет доход выше среднего по датасету\n",
        "* всех, кто имеет доход выше среднего по датасету, но надежность ниже среднего по датасету\n",
        "\n",
        "создать новые столбцы:\n",
        "\n",
        "* важность клиента = доход * надежность\n",
        "* возможная долгосрочность клиента = важность клиента * (средний возраст по датасету - возраст клиента)\n",
        "\n",
        "`подсказка: двойные условия записываются так: (условие 1) & (условие 2)`\n",
        "\n",
        "\n",
        "** примечание: столбцы не имеют отношения к реальным формулам или моделям, они необходимы только для наглядности"
      ]
    },
    {
      "cell_type": "code",
      "metadata": {
        "id": "vHvedF6tXAWF",
        "colab": {
          "base_uri": "https://localhost:8080/",
          "height": 167
        },
        "outputId": "c49fe718-ef32-41b7-bde9-ebf74e187638"
      },
      "source": [
        "import pandas as pd\n",
        "# создадим тестовый датасет\n",
        "df = pd.DataFrame({\n",
        "    'имя': ['Петя', 'Вася', 'Аня', 'Света'],\n",
        "    'возраст': [45, 26, 41 , 21],\n",
        "    'доход': [100000, 80000, 150000, 60000],\n",
        "    'надежность клиента (0..1)': [0.65, 0.74, 0.87, 0.68],\n",
        "    'пол': ['муж', 'муж', 'жен', 'жен']},\n",
        "    index=[0, 1, 2, 3])\n",
        "\n",
        "# ваш код тут\n",
        "df[df['возраст']>40]\n",
        "df[df['доход']>df.доход.mean()]\n",
        "df[(df.доход>df.доход.mean()) & (df['надежность клиента (0..1)'] < df['надежность клиента (0..1)'].mean())]\n",
        "\n",
        "df['важность клиента']=df['доход']*df['надежность клиента (0..1)']\n",
        "df\n",
        "df['возможная долгосрочность клиента']=df['важность клиента']*(df['возраст'].mean()-df['возраст'])\n",
        "df"
      ],
      "execution_count": 7,
      "outputs": [
        {
          "output_type": "execute_result",
          "data": {
            "text/html": [
              "<div>\n",
              "<style scoped>\n",
              "    .dataframe tbody tr th:only-of-type {\n",
              "        vertical-align: middle;\n",
              "    }\n",
              "\n",
              "    .dataframe tbody tr th {\n",
              "        vertical-align: top;\n",
              "    }\n",
              "\n",
              "    .dataframe thead th {\n",
              "        text-align: right;\n",
              "    }\n",
              "</style>\n",
              "<table border=\"1\" class=\"dataframe\">\n",
              "  <thead>\n",
              "    <tr style=\"text-align: right;\">\n",
              "      <th></th>\n",
              "      <th>имя</th>\n",
              "      <th>возраст</th>\n",
              "      <th>доход</th>\n",
              "      <th>надежность клиента (0..1)</th>\n",
              "      <th>пол</th>\n",
              "      <th>важность клиента</th>\n",
              "      <th>возможная долгосрочность клиента</th>\n",
              "    </tr>\n",
              "  </thead>\n",
              "  <tbody>\n",
              "    <tr>\n",
              "      <th>0</th>\n",
              "      <td>Петя</td>\n",
              "      <td>45</td>\n",
              "      <td>100000</td>\n",
              "      <td>0.65</td>\n",
              "      <td>муж</td>\n",
              "      <td>65000.0</td>\n",
              "      <td>-763750.0</td>\n",
              "    </tr>\n",
              "    <tr>\n",
              "      <th>1</th>\n",
              "      <td>Вася</td>\n",
              "      <td>26</td>\n",
              "      <td>80000</td>\n",
              "      <td>0.74</td>\n",
              "      <td>муж</td>\n",
              "      <td>59200.0</td>\n",
              "      <td>429200.0</td>\n",
              "    </tr>\n",
              "    <tr>\n",
              "      <th>2</th>\n",
              "      <td>Аня</td>\n",
              "      <td>41</td>\n",
              "      <td>150000</td>\n",
              "      <td>0.87</td>\n",
              "      <td>жен</td>\n",
              "      <td>130500.0</td>\n",
              "      <td>-1011375.0</td>\n",
              "    </tr>\n",
              "    <tr>\n",
              "      <th>3</th>\n",
              "      <td>Света</td>\n",
              "      <td>21</td>\n",
              "      <td>60000</td>\n",
              "      <td>0.68</td>\n",
              "      <td>жен</td>\n",
              "      <td>40800.0</td>\n",
              "      <td>499800.0</td>\n",
              "    </tr>\n",
              "  </tbody>\n",
              "</table>\n",
              "</div>"
            ],
            "text/plain": [
              "     имя  возраст  ...  важность клиента  возможная долгосрочность клиента\n",
              "0   Петя       45  ...           65000.0                         -763750.0\n",
              "1   Вася       26  ...           59200.0                          429200.0\n",
              "2    Аня       41  ...          130500.0                        -1011375.0\n",
              "3  Света       21  ...           40800.0                          499800.0\n",
              "\n",
              "[4 rows x 7 columns]"
            ]
          },
          "metadata": {
            "tags": []
          },
          "execution_count": 7
        }
      ]
    },
    {
      "cell_type": "markdown",
      "metadata": {
        "id": "MxFoJ2LubuYU"
      },
      "source": [
        "## Задание 6\n",
        "\n",
        "Посмотрите на блок Exploratory data analysis, используйте данные, кототрые вы загрузили в ходе его освоения. Ваша задача - вывести имена всех выживших детей и их количество"
      ]
    },
    {
      "cell_type": "code",
      "metadata": {
        "id": "i1IrZOJ1uQVw"
      },
      "source": [
        "data = pd.read_csv('https://web.stanford.edu/class/archive/cs/cs109/cs109.1166/stuff/titanic.csv')"
      ],
      "execution_count": 8,
      "outputs": []
    },
    {
      "cell_type": "code",
      "metadata": {
        "id": "yCXtLEbCuTvU",
        "colab": {
          "base_uri": "https://localhost:8080/"
        },
        "outputId": "64fad947-0d1d-45da-e723-71a5d3fd331f"
      },
      "source": [
        "sc=data.Name[(data['Age']<18)&(data['Survived']==1)].values\n",
        "print(sc, len(sc))"
      ],
      "execution_count": 9,
      "outputs": [
        {
          "output_type": "stream",
          "text": [
            "['Mrs. Nicholas (Adele Achem) Nasser' 'Miss. Marguerite Rut Sandstrom'\n",
            " 'Miss. Anna McGowan' 'Miss. Jamila Nicola-Yarred'\n",
            " 'Miss. Simonne Marie Anne Andree Laroche' 'Miss. Constance Mirium West'\n",
            " 'Master. Gerios Moubarek' 'Miss. Erna Alexandra Andersson'\n",
            " 'Master. Alden Gates Caldwell' 'Miss. Bertha Ilett'\n",
            " 'Master. Elias Nicola-Yarred' 'Miss. Anna Peter'\n",
            " 'Miss. Katherine Gilnagh' 'Master. Frank John William Goldsmith'\n",
            " 'Miss. Eleanor Ileen Johnson' 'Master. Richard F Becker'\n",
            " 'Miss. Luise Gretchen Kink-Heilmann' 'Master. Michel M Navratil'\n",
            " 'Miss. Helen Carr' 'Mr. Victor Francis Sunderland'\n",
            " 'Miss. Lillian Gertrud Asplund' 'Miss. Marjorie Collyer'\n",
            " 'Master. Edvin Rojj Felix Asplund' 'Master. Hudson Trevor Allison'\n",
            " 'Mrs. Victor de Satode (Maria Josefa Perez de Soto y Vallejo) Penasco y Castellana'\n",
            " 'Miss. Jean Gertrude Hippach' 'Master. Edmond Roger Navratil'\n",
            " 'Master. William Loch Coutts' 'Miss. Maria Nakid' 'Miss. Bertha Lehmann'\n",
            " 'Master. William Rowe Richards' 'Miss. Lucile Polk Carter'\n",
            " 'Master. Washington Dodge' 'Miss. Madeleine Violet Mellinger'\n",
            " 'Miss. Marie Catherine Baclini' 'Miss. Helene Barbara Baclini'\n",
            " 'Miss. Hildur E Hirvonen' 'Master. Eden Leslie Coutts'\n",
            " 'Miss. Roberta Maioni' 'Miss. Phyllis May Quick' 'Miss. Eva Miriam Hart'\n",
            " 'Master. John Morgan Jr Davies' 'Mr. John Borland Jr Thayer'\n",
            " 'Miss. Marion Louise Becker' 'Miss. Eugenie Baclini'\n",
            " \"Miss. Hanora O'Leary\" 'Miss. Georgette Alexandra Madill'\n",
            " 'Miss. Manca Karun' 'Master. Halim Gonios Moubarek'\n",
            " 'Miss. Annie Jessie Harper' 'Miss. Joan Wells' 'Master. Meier Moor'\n",
            " 'Master. Viljo Hamalainen' 'Miss. Virginia Ethel Emanuel'\n",
            " 'Miss. Banoura Ayoub' 'Mrs. Albert Adrian (Vera Gillespie) Dick'\n",
            " 'Master. Bertram Vere Dean' 'Master. William Thornton II Carter'\n",
            " 'Master. Assad Alexander Thomas' 'Master. Andre Mallet'\n",
            " 'Mrs. Antoni (Selini Alexander) Yasbeck' 'Master. George Sibley Richards'\n",
            " 'Miss. Mary Conover Lines' 'Master. Harold Theodor Johnson'\n",
            " 'Miss. Adele Kiamie Najib'] 65\n"
          ],
          "name": "stdout"
        }
      ]
    }
  ]
}