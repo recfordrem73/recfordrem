{
  "nbformat": 4,
  "nbformat_minor": 0,
  "metadata": {
    "colab": {
      "name": "ДЗ_1_DS.ipynb",
      "provenance": [],
      "collapsed_sections": [],
      "toc_visible": true,
      "include_colab_link": true
    },
    "kernelspec": {
      "display_name": "Python 3",
      "language": "python",
      "name": "python3"
    },
    "language_info": {
      "codemirror_mode": {
        "name": "ipython",
        "version": 3
      },
      "file_extension": ".py",
      "mimetype": "text/x-python",
      "name": "python",
      "nbconvert_exporter": "python",
      "pygments_lexer": "ipython3",
      "version": "3.7.6"
    }
  },
  "cells": [
    {
      "cell_type": "markdown",
      "metadata": {
        "id": "view-in-github",
        "colab_type": "text"
      },
      "source": [
        "<a href=\"https://colab.research.google.com/github/recfordrem73/recfordrem/blob/child-branch/%D0%94%D0%97_1_DS.ipynb\" target=\"_parent\"><img src=\"https://colab.research.google.com/assets/colab-badge.svg\" alt=\"Open In Colab\"/></a>"
      ]
    },
    {
      "cell_type": "markdown",
      "metadata": {
        "id": "aiw2Q8JzXVnY"
      },
      "source": [
        "<h1 style=\"color:green\">Выполнил(а): ...</h1>"
      ]
    },
    {
      "cell_type": "markdown",
      "metadata": {
        "id": "M6n_8Kgn9YIT"
      },
      "source": [
        "# Несколько заданий на пройденный материал"
      ]
    },
    {
      "cell_type": "markdown",
      "metadata": {
        "id": "TT2xjEgu9nCx"
      },
      "source": [
        "*Подсказка!* проверяйте ваше решение по тому, что уже есть в блоках вывода ячеек"
      ]
    },
    {
      "cell_type": "markdown",
      "metadata": {
        "id": "p8V0RKCF94h6"
      },
      "source": [
        "## Задача 1\n",
        "\n",
        "Создайте переменную a = 10, возвести значение в 3 степень и найти остаток от деления на 3."
      ]
    },
    {
      "cell_type": "code",
      "metadata": {
        "colab": {
          "base_uri": "https://localhost:8080/"
        },
        "id": "_N-Bcj6D9300",
        "outputId": "bfb22bb5-e848-4301-af19-7f2cec9974d7"
      },
      "source": [
        "a=10\n",
        "b=a**3%3\n",
        "print(b)"
      ],
      "execution_count": null,
      "outputs": [
        {
          "output_type": "stream",
          "text": [
            "1\n"
          ],
          "name": "stdout"
        }
      ]
    },
    {
      "cell_type": "markdown",
      "metadata": {
        "id": "S2BzQt1E99Np"
      },
      "source": [
        "## Задача 2\n",
        "\n",
        "Найдите площадь круга с радиусом 1.23456.\n",
        "\n",
        "(Считаем π = 3.14)"
      ]
    },
    {
      "cell_type": "code",
      "metadata": {
        "colab": {
          "base_uri": "https://localhost:8080/"
        },
        "id": "mkN8EOc098t9",
        "outputId": "43efb643-7b4e-4307-dff2-c1fa6aecd60d"
      },
      "source": [
        "import math\n",
        "r=1.23456\n",
        "S=2*math.pi*r**2\n",
        "print(S)"
      ],
      "execution_count": null,
      "outputs": [
        {
          "output_type": "stream",
          "text": [
            "9.576443960775817\n"
          ],
          "name": "stdout"
        }
      ]
    },
    {
      "cell_type": "markdown",
      "metadata": {
        "id": "nP-f4Qd2-BTI"
      },
      "source": [
        "## Задача 3\n",
        "\n",
        "Найдите, истинно ли, что 2 в 10 степени больше 1000 при условии, что 4 в 7й степени меньше 8 в 5й.\n",
        "\n"
      ]
    },
    {
      "cell_type": "code",
      "metadata": {
        "colab": {
          "base_uri": "https://localhost:8080/"
        },
        "id": "-reh5tB2-CPF",
        "outputId": "5f43d23c-3fcc-467b-8173-ec7babd63e7e"
      },
      "source": [
        "if 4**7<8**5 and 2**10>1000:\n",
        "  print(True)\n",
        "else:\n",
        "  print(False)\n"
      ],
      "execution_count": null,
      "outputs": [
        {
          "output_type": "stream",
          "text": [
            "True\n"
          ],
          "name": "stdout"
        }
      ]
    },
    {
      "cell_type": "markdown",
      "metadata": {
        "id": "XcaKAyzZ-MOL"
      },
      "source": [
        "## Задача 4\n",
        "\n",
        "Мы принимаем целое число на ввод с клавиатуры (код предоставлен), вывести \"цена выше рынка\", если число выше 1200, \"цена ниже рыночной\", если число меньше 800 и \"все ок\" в остальных случаях."
      ]
    },
    {
      "cell_type": "code",
      "metadata": {
        "colab": {
          "base_uri": "https://localhost:8080/"
        },
        "id": "3yLvK2JL-R1g",
        "outputId": "f7d8c93b-c0df-4b93-87cf-130fabf8ec8e"
      },
      "source": [
        "price = int(input('Введите цену товара: '))\n",
        "if price>1200:\n",
        "  print('цена выше рынка')\n",
        "elif price<800:\n",
        "  print('цена ниже рыночной')\n",
        "else:\n",
        "  print('все ок')\n"
      ],
      "execution_count": null,
      "outputs": [
        {
          "output_type": "stream",
          "text": [
            "Введите цену товара: 7000\n",
            "цена выше рынка\n"
          ],
          "name": "stdout"
        }
      ]
    },
    {
      "cell_type": "markdown",
      "metadata": {
        "id": "lV0tQp8J-bFI"
      },
      "source": [
        "## Задача 5\n",
        "\n",
        "Распечатайте с 4 по 8 символ фразы \"Привет мир!\" приведенные к верхнему регистру."
      ]
    },
    {
      "cell_type": "code",
      "metadata": {
        "colab": {
          "base_uri": "https://localhost:8080/"
        },
        "id": "ECKlo9c2-cue",
        "outputId": "13617e8f-cb7f-4fee-ef8a-919f0148fdfe"
      },
      "source": [
        "phrase='Привет мир!'\n",
        "print(phrase[3:8].upper())"
      ],
      "execution_count": null,
      "outputs": [
        {
          "output_type": "stream",
          "text": [
            "ВЕТ М\n"
          ],
          "name": "stdout"
        }
      ]
    },
    {
      "cell_type": "markdown",
      "metadata": {
        "id": "2jN3PzaZ-gx4"
      },
      "source": [
        "## Задача 6\n",
        "\n",
        "Создайте переменную, которая хранит описание этой задачи как строку, разделите слова по пробелам и приведите к нижнему регистру."
      ]
    },
    {
      "cell_type": "code",
      "metadata": {
        "colab": {
          "base_uri": "https://localhost:8080/"
        },
        "id": "A-Ro4i8u-iHv",
        "outputId": "b8b2b953-c0a8-468d-e011-df12c0cf348e"
      },
      "source": [
        "ph0='Создайте переменную, которая хранит описание этой задачи как строку, разделите слова по пробелам и приведите к нижнему регистру.'\n",
        "l=ph0.lower().split()\n",
        "print(t)"
      ],
      "execution_count": null,
      "outputs": [
        {
          "output_type": "stream",
          "text": [
            "['создайте', 'переменную,', 'которая', 'хранит', 'описание', 'этой', 'задачи', 'как', 'строку,', 'разделите', 'слова', 'по', 'пробелам', 'и', 'приведите', 'к', 'нижнему', 'регистру.']\n"
          ],
          "name": "stdout"
        }
      ]
    },
    {
      "cell_type": "markdown",
      "metadata": {
        "id": "nE4N_rxk-l-L"
      },
      "source": [
        "## Задание 7\n",
        "\n",
        "Напишите код, который проверяет, является ли переменная x строкой, и если да, то если в строке больше одного слова (слово--последовательность подряд идущих символов без пробелов), то выводит на экран количество слов в этой строке и сами слова в алфавитном порядке."
      ]
    },
    {
      "cell_type": "code",
      "metadata": {
        "colab": {
          "base_uri": "https://localhost:8080/"
        },
        "id": "INh5TwAM9Xmf",
        "outputId": "7a01ce02-7891-41f8-f6e3-61d6f32d201c"
      },
      "source": [
        "x = 'z hello world asdasd bdfgsdfg cvbcbv dfgdfgfg'\n",
        "if type(x) is str and len(x)>1:\n",
        "  l=x.split()\n",
        "  print(len(l), sorted(l))"
      ],
      "execution_count": null,
      "outputs": [
        {
          "output_type": "stream",
          "text": [
            "7 ['asdasd', 'bdfgsdfg', 'cvbcbv', 'dfgdfgfg', 'hello', 'world', 'z']\n"
          ],
          "name": "stdout"
        }
      ]
    },
    {
      "cell_type": "markdown",
      "metadata": {
        "id": "TR1Wvx_Z-tlI"
      },
      "source": [
        "## Задание 8\n",
        "\n",
        "Напишите код, который все элементы массива x с **нечетными** индексами переставит в обратном порядке.\n",
        "\n",
        "Т.е. если x = [0, 1, 2, 3, 4, 5, 6, 7, 8, 9], то код должен получать [0, 9, 2, 7, 4, 5, 6, 3, 8, 1]"
      ]
    },
    {
      "cell_type": "code",
      "metadata": {
        "colab": {
          "base_uri": "https://localhost:8080/"
        },
        "id": "hh2ackf09QjM",
        "outputId": "2fb59a27-fe0c-42f1-df61-ec529db9487b"
      },
      "source": [
        "a1 = [0, 1, 2, 3, 4, 5, 6, 7, 8, 9, 10, 11, 12, 13]\n",
        "def ff(x):\n",
        "  l=list()\n",
        "  if len(x)%2==0:\n",
        "    for i in range(len(x)):\n",
        "      if i%2!=0:\n",
        "        l.append(x[-i])\n",
        "      else:\n",
        "        l.append(x[i])\n",
        "  if len(x)%2!=0:\n",
        "     for i in range(len(x)):\n",
        "      if i%2!=0:\n",
        "        l.append(x[-i-1])\n",
        "      else:\n",
        "        l.append(x[i])\n",
        "  return print(len(x), len(l), l)\n",
        "ff(a1)\n",
        "a2=[0, 1, 2, 3, 4, 5, 6, 7, 8, 9, 10, 11, 12, 13, 14]\n",
        "ff(a2)\n",
        "a3=range(0,20,1)\n",
        "ff(a3)\n",
        "print(a3)"
      ],
      "execution_count": null,
      "outputs": [
        {
          "output_type": "stream",
          "text": [
            "14 14 [0, 13, 2, 11, 4, 9, 6, 7, 8, 5, 10, 3, 12, 1]\n",
            "15 15 [0, 13, 2, 11, 4, 9, 6, 7, 8, 5, 10, 3, 12, 1, 14]\n",
            "20 20 [0, 19, 2, 17, 4, 15, 6, 13, 8, 11, 10, 9, 12, 7, 14, 5, 16, 3, 18, 1]\n",
            "range(0, 20)\n"
          ],
          "name": "stdout"
        }
      ]
    },
    {
      "cell_type": "markdown",
      "metadata": {
        "id": "pdGccRcP-1CC"
      },
      "source": [
        "## Задание 9\n",
        "\n",
        "Напишите цикл, который выводит все числа от 0 до 500, делящиеся на 7, если в них есть цифра 8.\n",
        "\n",
        "*Подсказка*: переменную типа int можно привести к типу str:\n",
        "```\n",
        "x = 5\n",
        "y = str(x)\n",
        "```"
      ]
    },
    {
      "cell_type": "code",
      "metadata": {
        "colab": {
          "base_uri": "https://localhost:8080/"
        },
        "id": "XAosJEH7sCmT",
        "outputId": "17caa7bf-e412-4225-bb2d-3906a66a8ee4"
      },
      "source": [
        "a=[i for i in range(0,501)]\n",
        "for i in a:\n",
        "  if i % 7==0 and '8' in str(i):\n",
        "    print(i)\n"
      ],
      "execution_count": null,
      "outputs": [
        {
          "output_type": "stream",
          "text": [
            "28\n",
            "84\n",
            "98\n",
            "168\n",
            "182\n",
            "189\n",
            "238\n",
            "280\n",
            "287\n",
            "308\n",
            "378\n",
            "385\n",
            "448\n",
            "483\n"
          ],
          "name": "stdout"
        }
      ]
    },
    {
      "cell_type": "markdown",
      "metadata": {
        "id": "VaeD81JuBfdE"
      },
      "source": [
        "# Доп задачи по пройденному материалу"
      ]
    },
    {
      "cell_type": "markdown",
      "metadata": {
        "id": "TVh-gw54BqEm"
      },
      "source": [
        "## Задание 10\n",
        "\n",
        "1. Создайте список `a`, состоящий из каких-то элементов.\n",
        "2. Создайте список `b` такого же размера, как `a`, состоящий из каких-то элементов.\n",
        "3. Выведите **нумерованный список пар** из элементов списков `a` и `b`."
      ]
    },
    {
      "cell_type": "code",
      "metadata": {
        "colab": {
          "base_uri": "https://localhost:8080/"
        },
        "id": "WkDpiGDsBcus",
        "outputId": "1a72bff8-ff0f-421d-81a6-021672061d1f"
      },
      "source": [
        "# Ваш код здесь\n",
        "# варианты решения ниже\n",
        "#[(0, ('11', 'x')), (1, ('22', 'y')), (2, ('33', 'z'))]\n",
        "#[(0, '11', 'x'), (1, '22', 'y'), (2, '33', 'z')]\n",
        "a=[i for i in range(0,40,2)]\n",
        "b=[i for i in range(0,60,3)]\n",
        "l=list()\n",
        "n=0\n",
        "def k(a,b):\n",
        "  t=()\n",
        "  res=t+(a,)+(b,)\n",
        "  return res\n",
        "for i in range(len(a)):\n",
        "  t=(n,)+k(a[i],b[i])\n",
        "  n+=1\n",
        "  l.append(t)\n",
        "print(l)"
      ],
      "execution_count": null,
      "outputs": [
        {
          "output_type": "stream",
          "text": [
            "[(0, 0, 0), (1, 2, 3), (2, 4, 6), (3, 6, 9), (4, 8, 12), (5, 10, 15), (6, 12, 18), (7, 14, 21), (8, 16, 24), (9, 18, 27), (10, 20, 30), (11, 22, 33), (12, 24, 36), (13, 26, 39), (14, 28, 42), (15, 30, 45), (16, 32, 48), (17, 34, 51), (18, 36, 54), (19, 38, 57)]\n"
          ],
          "name": "stdout"
        }
      ]
    },
    {
      "cell_type": "markdown",
      "metadata": {
        "id": "51DfEzj3B1gV"
      },
      "source": [
        "## Задание 11\n",
        "\n",
        "Дан массив строк mas. Одной строкой создайте словарь, в котором по ключу строки будет записана пара (кортеж длины 2) (индекс строки в массиве mas, длина строки)"
      ]
    },
    {
      "cell_type": "code",
      "metadata": {
        "colab": {
          "base_uri": "https://localhost:8080/"
        },
        "id": "azytv3ENBuH5",
        "outputId": "ffc8c07e-5003-45e4-cc5e-7aa2564c8a12"
      },
      "source": [
        "mas=['abc', 'hello', 'asdada']\n",
        "di={n:(len(n),mas.index(n)) for n in mas}\n",
        "print(di)\n"
      ],
      "execution_count": null,
      "outputs": [
        {
          "output_type": "stream",
          "text": [
            "{'abc': (3, 0), 'hello': (5, 1), 'asdada': (6, 2)}\n"
          ],
          "name": "stdout"
        }
      ]
    },
    {
      "cell_type": "markdown",
      "metadata": {
        "id": "NNgNKKtUB-7d"
      },
      "source": [
        "## Задание 12\n",
        "\n",
        "Релизовать функцию, которая возвращает сумму всех позиционных и именованных аргументов."
      ]
    },
    {
      "cell_type": "code",
      "metadata": {
        "colab": {
          "base_uri": "https://localhost:8080/"
        },
        "id": "8MrgHc1eB47J",
        "outputId": "86a83610-484a-4ee2-b1e4-298c4eed3fa8"
      },
      "source": [
        "def func(c,d,e,a=1,b=2):\n",
        "  return a+b+c+d+e\n",
        "print(func(1, 2, 3, a=4, b=5))"
      ],
      "execution_count": null,
      "outputs": [
        {
          "output_type": "stream",
          "text": [
            "15\n"
          ],
          "name": "stdout"
        }
      ]
    },
    {
      "cell_type": "markdown",
      "metadata": {
        "id": "l-3fE5H-CIqe"
      },
      "source": [
        "## Задание 13\n",
        "\n",
        "Реализовать функцию, которая сохраняет в 2 глобальные переменные:\n",
        "* сумму всех позиционных аргументов - релизовать через  lambda;\n",
        "* название всех именованных аргументов в виде списка."
      ]
    },
    {
      "cell_type": "code",
      "metadata": {
        "colab": {
          "base_uri": "https://localhost:8080/"
        },
        "id": "Nhp1NLZJCGXI",
        "outputId": "a7e67268-3ea4-4393-da04-b4fe510a672f"
      },
      "source": [
        "summ = 0\n",
        "names = []\n",
        "\n",
        "def another_func(x,y,z,a=4,b=5):\n",
        "  global summ\n",
        "  summ = lambda x,y,z:x+y+z \n",
        "  global names\n",
        "  names = ['a','b']\n",
        "  return print(summ(x,y,z),names)\n",
        "\n",
        "another_func(1,2,3)\n",
        "\n",
        "print(f'Cумма {summ(1,2,3)}, названия {names}')"
      ],
      "execution_count": 31,
      "outputs": [
        {
          "output_type": "stream",
          "text": [
            "6 ['a', 'b']\n",
            "Cумма 6, названия ['a', 'b']\n"
          ],
          "name": "stdout"
        }
      ]
    },
    {
      "cell_type": "markdown",
      "metadata": {
        "id": "HPbaEwHLCTLI"
      },
      "source": [
        "## Задание 14\n",
        "\n",
        "Реализовать класс с 2 функциями:\n",
        "\n",
        "*   Первая функция копирует функционал задачи №13, но сохраняет переменные в области видимости класса;\n",
        "*   Вторая функция отображает на экран сумму и названия именованных аргументов.\n",
        "\n"
      ]
    },
    {
      "cell_type": "code",
      "metadata": {
        "colab": {
          "base_uri": "https://localhost:8080/"
        },
        "id": "FvqwsvY4COmH",
        "outputId": "f67ff3d9-1049-4054-ce6b-aa111901a66e"
      },
      "source": [
        "class class_obj():\n",
        "  def __init__(self, a,b,x,y,z):\n",
        "    self.a=a\n",
        "    self.b=b\n",
        "    self.x=x \n",
        "    self.y=y\n",
        "    self.z=z\n",
        "  def another_func(x,y,z,a=4,b=5):\n",
        "    summ = lambda x,y,z:x+y+z \n",
        "    names = ['a','b']\n",
        "    return print(summ(x,y,z))\n",
        "  \n",
        "  def print_args_kwargs(a,b):\n",
        "    names = [a,b]\n",
        "    summ = lambda a,b:a+b\n",
        "    return print(f'Cумма {summ(a,b)}, названия {names}')\n",
        "\n",
        "\n",
        "class_obj.another_func(1, 2, 3, a=4, b=5)\n",
        "class_obj.print_args_kwargs(a=1,b=2)"
      ],
      "execution_count": 37,
      "outputs": [
        {
          "output_type": "stream",
          "text": [
            "6\n",
            "Cумма 3, названия [1, 2]\n"
          ],
          "name": "stdout"
        }
      ]
    },
    {
      "cell_type": "code",
      "metadata": {
        "id": "a7XyoOplArjI"
      },
      "source": [
        ""
      ],
      "execution_count": null,
      "outputs": []
    }
  ]
}